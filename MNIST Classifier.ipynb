{
 "cells": [
  {
   "cell_type": "markdown",
   "metadata": {},
   "source": [
    "# Code Setup"
   ]
  },
  {
   "cell_type": "code",
   "execution_count": 24,
   "metadata": {},
   "outputs": [],
   "source": [
    "#import libraries\n",
    "import numpy as np\n",
    "import pandas as pd\n",
    "from timeit import default_timer as timer\n",
    "import matplotlib.pyplot as plt\n",
    "import seaborn as sns\n",
    "from sklearn.model_selection import train_test_split as tts, cross_val_score as cvs\n",
    "from sklearn.ensemble import RandomForestClassifier\n",
    "from sklearn.decomposition import PCA\n",
    "from sklearn.pipeline import Pipeline\n",
    "from sklearn.metrics import accuracy_score\n",
    "\n",
    "#hide warnings\n",
    "import warnings\n",
    "warnings.filterwarnings(action = 'ignore', category = FutureWarning)\n",
    "warnings.filterwarnings(action = 'ignore', category = DeprecationWarning)"
   ]
  },
  {
   "cell_type": "code",
   "execution_count": 2,
   "metadata": {},
   "outputs": [],
   "source": [
    "#import data\n",
    "train = pd.read_csv('train.csv')\n",
    "test = pd.read_csv('test.csv')"
   ]
  },
  {
   "cell_type": "code",
   "execution_count": 3,
   "metadata": {},
   "outputs": [],
   "source": [
    "#define input and output variables from training data\n",
    "\n",
    "random_seed = 1234\n",
    "\n",
    "X = train.drop('label', axis = 1)\n",
    "y = train['label']"
   ]
  },
  {
   "cell_type": "code",
   "execution_count": 4,
   "metadata": {},
   "outputs": [],
   "source": [
    "#build some functions\n",
    "\n",
    "def fit_model(model,X,y):\n",
    "    start = timer()\n",
    "    model.fit(X,y)\n",
    "    end = timer()\n",
    "    print('Seconds to fit model: {:.3f}'.format(end-start))\n",
    "    \n",
    "def prediction(model, X, filename):\n",
    "    pred = model.predict(X)\n",
    "    imageid = [int(i) for i in range(1,len(pred)+1)]\n",
    "    file = pd.DataFrame({'ImageID': imageid,\n",
    "                        'Label': pred})\n",
    "    file.to_csv(filename)"
   ]
  },
  {
   "cell_type": "markdown",
   "metadata": {},
   "source": [
    "# Random Forest on all variables"
   ]
  },
  {
   "cell_type": "code",
   "execution_count": 5,
   "metadata": {},
   "outputs": [
    {
     "name": "stdout",
     "output_type": "stream",
     "text": [
      "Seconds to fit model: 3.808\n"
     ]
    }
   ],
   "source": [
    "#using hyperparameters laid out in the assignment description\n",
    "allvar = RandomForestClassifier(n_estimators = 10, bootstrap = True, max_features = 'sqrt',random_state = random_seed)\n",
    "\n",
    "fit_model(allvar, X, y)"
   ]
  },
  {
   "cell_type": "code",
   "execution_count": 6,
   "metadata": {},
   "outputs": [],
   "source": [
    "prediction(allvar, test, 'All_Variable_Prediction.csv')"
   ]
  },
  {
   "cell_type": "markdown",
   "metadata": {},
   "source": [
    "# Principal Component Analysis"
   ]
  },
  {
   "cell_type": "code",
   "execution_count": 7,
   "metadata": {},
   "outputs": [
    {
     "name": "stdout",
     "output_type": "stream",
     "text": [
      "Train + Test records: 70000\n",
      "Combined records: 70000\n"
     ]
    }
   ],
   "source": [
    "#PCA model, first need to combine training and test sets to look at all variables\n",
    "#using X variable that was originally created and does not have label column\n",
    "\n",
    "all_data = X.append(test)\n",
    "\n",
    "#combined records should be the sum of the first two\n",
    "print('Train + Test records:', len(X) + len(test))\n",
    "print('Combined records:', len(all_data))"
   ]
  },
  {
   "cell_type": "code",
   "execution_count": 8,
   "metadata": {},
   "outputs": [
    {
     "name": "stdout",
     "output_type": "stream",
     "text": [
      "Seconds to fit model: 10.726\n"
     ]
    }
   ],
   "source": [
    "#find components for 95% of the variance\n",
    "\n",
    "start = timer()\n",
    "pca = PCA(n_components = 0.95)\n",
    "X_reduc = pca.fit_transform(all_data)\n",
    "end = timer()\n",
    "print('Seconds to fit model: {:.3f}'.format(end-start))"
   ]
  },
  {
   "cell_type": "code",
   "execution_count": 9,
   "metadata": {},
   "outputs": [
    {
     "name": "stdout",
     "output_type": "stream",
     "text": [
      "Seconds to fit model: 5.726\n"
     ]
    }
   ],
   "source": [
    "#find best components from PCA\n",
    "pca_best = pca.n_components_\n",
    "pca = PCA(n_components = pca_best)\n",
    "\n",
    "start = timer()\n",
    "pca_train = pca.fit_transform(train)\n",
    "end = timer()\n",
    "print('Seconds to fit model: {:.3f}'.format(end-start))\n",
    "\n"
   ]
  },
  {
   "cell_type": "code",
   "execution_count": 10,
   "metadata": {},
   "outputs": [
    {
     "data": {
      "text/plain": [
       "154"
      ]
     },
     "execution_count": 10,
     "metadata": {},
     "output_type": "execute_result"
    }
   ],
   "source": [
    "#how many features are included in 95% of the variance?\n",
    "pca_best"
   ]
  },
  {
   "cell_type": "code",
   "execution_count": 11,
   "metadata": {},
   "outputs": [
    {
     "name": "stdout",
     "output_type": "stream",
     "text": [
      "Seconds to fit model: 9.508\n"
     ]
    }
   ],
   "source": [
    "#fit model for training data using dimension reduction\n",
    "rf_pca = RandomForestClassifier(n_estimators = 10, bootstrap = True, max_features = 'sqrt',random_state = random_seed)\n",
    "\n",
    "fit_model(rf_pca,pca_train,y)"
   ]
  },
  {
   "cell_type": "code",
   "execution_count": 12,
   "metadata": {},
   "outputs": [],
   "source": [
    "#predict outputs using dimension reduction\n",
    "\n",
    "pca_test = pca.fit_transform(test)\n",
    "\n",
    "prediction(rf_pca, pca_test, 'Reduced_Variable_Predictions.csv')"
   ]
  },
  {
   "cell_type": "markdown",
   "metadata": {},
   "source": [
    "# Quick comparison to see how many different results I got between the outputs"
   ]
  },
  {
   "cell_type": "code",
   "execution_count": 13,
   "metadata": {},
   "outputs": [],
   "source": [
    "#both outputed csv files for Kaggle upload\n",
    "full = pd.read_csv('All_Variable_Prediction.csv')\n",
    "reduced = pd.read_csv('Reduced_Variable_Predictions.csv')\n",
    "reduced = reduced.rename(columns = {'Label': 'Label2'})"
   ]
  },
  {
   "cell_type": "code",
   "execution_count": 14,
   "metadata": {},
   "outputs": [],
   "source": [
    "#1 df for side by side comparison\n",
    "comp = pd.concat([full, reduced['Label2']], axis = 1)"
   ]
  },
  {
   "cell_type": "code",
   "execution_count": 15,
   "metadata": {},
   "outputs": [
    {
     "name": "stdout",
     "output_type": "stream",
     "text": [
      "Total Record Count: 28000\n",
      "Different Record Count: 17784\n"
     ]
    }
   ],
   "source": [
    "print('Total Record Count:',len(comp))\n",
    "print('Different Record Count:',len(comp[comp['Label'] != comp['Label2']]) )"
   ]
  },
  {
   "cell_type": "markdown",
   "metadata": {},
   "source": [
    "# Updated Model after Fixing Issue"
   ]
  },
  {
   "cell_type": "markdown",
   "metadata": {},
   "source": [
    "To do's for this part:\n",
    "-fit model using training and testing sets, all from train data source\n",
    "-scale data using normal scaler\n",
    "-optimize random forest to improve model based on testing performance"
   ]
  },
  {
   "cell_type": "code",
   "execution_count": 8,
   "metadata": {},
   "outputs": [],
   "source": [
    "#Split training data into train and test sets\n",
    "X_train, X_test, y_train, y_test = tts(X, y, test_size = 0.2, random_state = random_seed)"
   ]
  },
  {
   "cell_type": "code",
   "execution_count": 14,
   "metadata": {},
   "outputs": [
    {
     "name": "stdout",
     "output_type": "stream",
     "text": [
      "Seconds to fit model: 17.105\n"
     ]
    }
   ],
   "source": [
    "#using pipeline to fit the model for both PCA and random forest\n",
    "#using only training data here\n",
    "\n",
    "pipe = Pipeline([('pca', PCA(n_components = 0.95)),\n",
    "                ('rf', RandomForestClassifier(bootstrap = True, max_features = 'sqrt',random_state = random_seed))])\n",
    "\n",
    "#pipe.fit(X_train, y_train)\n",
    "fit_model(pipe, X_train, y_train)"
   ]
  },
  {
   "cell_type": "code",
   "execution_count": 16,
   "metadata": {},
   "outputs": [
    {
     "name": "stdout",
     "output_type": "stream",
     "text": [
      "Training score: 0.999\n",
      "Test score: 0.866\n"
     ]
    }
   ],
   "source": [
    "print('Training score: {:.3f}'.format(pipe.score(X_train, y_train)))\n",
    "print('Test score: {:.3f}'.format(pipe.score(X_test, y_test)))"
   ]
  },
  {
   "cell_type": "code",
   "execution_count": 27,
   "metadata": {},
   "outputs": [
    {
     "name": "stdout",
     "output_type": "stream",
     "text": [
      "[0.85782272 0.86492115 0.8688793  0.86826436 0.86199196]\n"
     ]
    }
   ],
   "source": [
    "#check for cross validation results and accuracy score\n",
    "\n",
    "print(cvs(pipe, X_train, y_train, cv = 5, scoring = 'accuracy'))\n",
    "\n",
    "y_pred = pipe.predict(X_test)\n",
    "acc_score = accuracy_score(y_test, y_pred)"
   ]
  },
  {
   "cell_type": "code",
   "execution_count": 30,
   "metadata": {},
   "outputs": [
    {
     "data": {
      "image/png": "[encoded data removed]",
      "text/plain": [
       "<Figure size 432x288 with 1 Axes>"
      ]
     },
     "metadata": {
      "needs_background": "light"
     },
     "output_type": "display_data"
    }
   ],
   "source": [
    "#model is overfitting, what do the different depths look like for accuracy?\n",
    "depth = []\n",
    "accuracy = []\n",
    "for i in range(1,20):\n",
    "    tree = Pipeline([('pca', PCA(n_components = 0.95)),\n",
    "                ('rf', RandomForestClassifier(max_depth = i, bootstrap = True, max_features = 'sqrt',\n",
    "                                              random_state = random_seed))])\n",
    "    tree.fit(X_train, y_train)\n",
    "    ypred = tree.predict(X_test)\n",
    "    score = accuracy_score(y_test, ypred)\n",
    "    accuracy.append(score)\n",
    "    depth.append(i)\n",
    "\n",
    "sns.scatterplot(x = depth, y = accuracy)\n",
    "plt.axhline(y=acc_score, ls='--')\n",
    "#plt.axhline(y=acc_score, xmin=0, xmax=11, ls='--')\n",
    "plt.ylabel('Accuracy')\n",
    "plt.xlabel('Depth')\n",
    "plt.title('Accuracy of Different Depths')\n",
    "plt.show()"
   ]
  },
  {
   "cell_type": "markdown",
   "metadata": {},
   "source": [
    "# Build final model with all adjustments made"
   ]
  },
  {
   "cell_type": "code",
   "execution_count": 31,
   "metadata": {},
   "outputs": [
    {
     "name": "stdout",
     "output_type": "stream",
     "text": [
      "Seconds to fit model: 97.508\n"
     ]
    }
   ],
   "source": [
    "#refit model with better max depth\n",
    "#use entire training dataset provided by Kaggle\n",
    "\n",
    "pipe = Pipeline([('pca', PCA(n_components = 0.95)),\n",
    "                ('rf', RandomForestClassifier(n_estimators = 100, max_depth = 17, bootstrap = True, max_features = 'sqrt',\n",
    "                                              random_state = random_seed))])\n",
    "\n",
    "fit_model(pipe, X, y)"
   ]
  },
  {
   "cell_type": "code",
   "execution_count": 32,
   "metadata": {},
   "outputs": [],
   "source": [
    "#build final prediction\n",
    "prediction(pipe, test, 'Final_MNIST_Predictions.csv')"
   ]
  },
  {
   "cell_type": "code",
   "execution_count": 33,
   "metadata": {},
   "outputs": [
    {
     "name": "stdout",
     "output_type": "stream",
     "text": [
      "Total Record Count: 28000\n",
      "Different Record Count: 1829\n"
     ]
    }
   ],
   "source": [
    "#first and last outputed csv files for Kaggle upload\n",
    "#compare how many predictions are different\n",
    "\n",
    "full = pd.read_csv('All_Variable_Prediction.csv')\n",
    "final = pd.read_csv('Final_MNIST_Predictions.csv')\n",
    "final = final.rename(columns = {'Label': 'Label2'})\n",
    "\n",
    "#1 df for side by side comparison\n",
    "comp = pd.concat([full, final['Label2']], axis = 1)\n",
    "\n",
    "print('Total Record Count:',len(comp))\n",
    "print('Different Record Count:',len(comp[comp['Label'] != comp['Label2']]) )"
   ]
  },
  {
   "cell_type": "code",
   "execution_count": null,
   "metadata": {},
   "outputs": [],
   "source": []
  }
 ],
 "metadata": {
  "kernelspec": {
   "display_name": "Python 3",
   "language": "python",
   "name": "python3"
  },
  "language_info": {
   "codemirror_mode": {
    "name": "ipython",
    "version": 3
   },
   "file_extension": ".py",
   "mimetype": "text/x-python",
   "name": "python",
   "nbconvert_exporter": "python",
   "pygments_lexer": "ipython3",
   "version": "3.7.3"
  }
 },
 "nbformat": 4,
 "nbformat_minor": 2
}
